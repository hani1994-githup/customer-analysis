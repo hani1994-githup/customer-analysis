{
 "cells": [
  {
   "cell_type": "code",
   "execution_count": 6,
   "id": "b2980a62-d83a-48a8-9f3b-66d7291fe9fc",
   "metadata": {},
   "outputs": [
    {
     "data": {
      "text/html": [
       "<div>\n",
       "<style scoped>\n",
       "    .dataframe tbody tr th:only-of-type {\n",
       "        vertical-align: middle;\n",
       "    }\n",
       "\n",
       "    .dataframe tbody tr th {\n",
       "        vertical-align: top;\n",
       "    }\n",
       "\n",
       "    .dataframe thead th {\n",
       "        text-align: right;\n",
       "    }\n",
       "</style>\n",
       "<table border=\"1\" class=\"dataframe\">\n",
       "  <thead>\n",
       "    <tr style=\"text-align: right;\">\n",
       "      <th></th>\n",
       "      <th>customer_id</th>\n",
       "      <th>name</th>\n",
       "      <th>age</th>\n",
       "      <th>city</th>\n",
       "      <th>income</th>\n",
       "      <th>purchase_data</th>\n",
       "    </tr>\n",
       "  </thead>\n",
       "  <tbody>\n",
       "    <tr>\n",
       "      <th>0</th>\n",
       "      <td>1</td>\n",
       "      <td>Ali</td>\n",
       "      <td>25.0</td>\n",
       "      <td>Tehran</td>\n",
       "      <td>3500.0</td>\n",
       "      <td>2023-02-05</td>\n",
       "    </tr>\n",
       "    <tr>\n",
       "      <th>1</th>\n",
       "      <td>2</td>\n",
       "      <td>Sara</td>\n",
       "      <td>NaN</td>\n",
       "      <td>Mashhad</td>\n",
       "      <td>4200.0</td>\n",
       "      <td>2023/03/01</td>\n",
       "    </tr>\n",
       "    <tr>\n",
       "      <th>2</th>\n",
       "      <td>3</td>\n",
       "      <td>Reza</td>\n",
       "      <td>18.0</td>\n",
       "      <td>Tehran</td>\n",
       "      <td>-2000.0</td>\n",
       "      <td>2023-02-10</td>\n",
       "    </tr>\n",
       "    <tr>\n",
       "      <th>3</th>\n",
       "      <td>4</td>\n",
       "      <td>Ali</td>\n",
       "      <td>25.0</td>\n",
       "      <td>Tehran</td>\n",
       "      <td>3500.0</td>\n",
       "      <td>2023-02-05</td>\n",
       "    </tr>\n",
       "    <tr>\n",
       "      <th>4</th>\n",
       "      <td>5</td>\n",
       "      <td>Mona</td>\n",
       "      <td>300.0</td>\n",
       "      <td>Shiraz</td>\n",
       "      <td>5000.0</td>\n",
       "      <td>None</td>\n",
       "    </tr>\n",
       "  </tbody>\n",
       "</table>\n",
       "</div>"
      ],
      "text/plain": [
       "   customer_id  name    age     city  income purchase_data\n",
       "0            1   Ali   25.0   Tehran  3500.0    2023-02-05\n",
       "1            2  Sara    NaN  Mashhad  4200.0    2023/03/01\n",
       "2            3  Reza   18.0   Tehran -2000.0    2023-02-10\n",
       "3            4   Ali   25.0   Tehran  3500.0    2023-02-05\n",
       "4            5  Mona  300.0   Shiraz  5000.0          None"
      ]
     },
     "execution_count": 6,
     "metadata": {},
     "output_type": "execute_result"
    }
   ],
   "source": [
    "# 1. Load Libraries & Data\n",
    "# -------------------------------------------------\n",
    "# This is hardcoded customer data for demonstration purposes\n",
    "# (in real projects, you'd load from CSV, SQL, API, etc.)\n",
    "import pandas as pd\n",
    "import matplotlib.pyplot as plt\n",
    "\n",
    "data = {\n",
    "    'customer_id': [1, 2, 3, 4, 5, 6],\n",
    "    'name': ['Ali', 'Sara', 'Reza', 'Ali', 'Mona', 'Amir'],\n",
    "    'age': [25, None, 18, 25, 300, 29],\n",
    "    'city': ['Tehran', 'Mashhad', 'Tehran', 'Tehran', 'Shiraz', 'Tabriz'],\n",
    "    'income': [3500, 4200, -2000, 3500, 5000, None],\n",
    "    'purchase_data': ['2023-02-05', '2023/03/01', '2023-02-10', '2023-02-05', None, '2023-02-25']\n",
    "}\n",
    "df = pd.DataFrame(data)\n",
    "df.head()"
   ]
  },
  {
   "cell_type": "code",
   "execution_count": 7,
   "id": "7d5913ec-6021-4ff7-930f-6e15c5135427",
   "metadata": {},
   "outputs": [
    {
     "name": "stdout",
     "output_type": "stream",
     "text": [
      "Original Data Info:\n",
      "<class 'pandas.core.frame.DataFrame'>\n",
      "RangeIndex: 6 entries, 0 to 5\n",
      "Data columns (total 6 columns):\n",
      " #   Column         Non-Null Count  Dtype  \n",
      "---  ------         --------------  -----  \n",
      " 0   customer_id    6 non-null      int64  \n",
      " 1   name           6 non-null      object \n",
      " 2   age            5 non-null      float64\n",
      " 3   city           6 non-null      object \n",
      " 4   income         5 non-null      float64\n",
      " 5   purchase_data  5 non-null      object \n",
      "dtypes: float64(2), int64(1), object(3)\n",
      "memory usage: 420.0+ bytes\n"
     ]
    }
   ],
   "source": [
    "# 2. Original Data Info\n",
    "# -------------------------------------------------\n",
    "# Shows structure, data types, and missing values before cleaning\n",
    "print(\"Original Data Info:\")\n",
    "df.info()"
   ]
  },
  {
   "cell_type": "code",
   "execution_count": 8,
   "id": "013c84da-38c9-4c04-8c13-02d4b5123f97",
   "metadata": {},
   "outputs": [
    {
     "name": "stdout",
     "output_type": "stream",
     "text": [
      "Cleaned Data:\n"
     ]
    },
    {
     "data": {
      "text/html": [
       "<div>\n",
       "<style scoped>\n",
       "    .dataframe tbody tr th:only-of-type {\n",
       "        vertical-align: middle;\n",
       "    }\n",
       "\n",
       "    .dataframe tbody tr th {\n",
       "        vertical-align: top;\n",
       "    }\n",
       "\n",
       "    .dataframe thead th {\n",
       "        text-align: right;\n",
       "    }\n",
       "</style>\n",
       "<table border=\"1\" class=\"dataframe\">\n",
       "  <thead>\n",
       "    <tr style=\"text-align: right;\">\n",
       "      <th></th>\n",
       "      <th>customer_id</th>\n",
       "      <th>name</th>\n",
       "      <th>age</th>\n",
       "      <th>city</th>\n",
       "      <th>income</th>\n",
       "      <th>purchase_data</th>\n",
       "    </tr>\n",
       "  </thead>\n",
       "  <tbody>\n",
       "    <tr>\n",
       "      <th>0</th>\n",
       "      <td>1</td>\n",
       "      <td>Ali</td>\n",
       "      <td>25.0</td>\n",
       "      <td>Tehran</td>\n",
       "      <td>3500.0</td>\n",
       "      <td>2023-02-05</td>\n",
       "    </tr>\n",
       "    <tr>\n",
       "      <th>1</th>\n",
       "      <td>2</td>\n",
       "      <td>Sara</td>\n",
       "      <td>25.0</td>\n",
       "      <td>Mashhad</td>\n",
       "      <td>4200.0</td>\n",
       "      <td>2023/03/01</td>\n",
       "    </tr>\n",
       "    <tr>\n",
       "      <th>2</th>\n",
       "      <td>3</td>\n",
       "      <td>Reza</td>\n",
       "      <td>18.0</td>\n",
       "      <td>Tehran</td>\n",
       "      <td>2000.0</td>\n",
       "      <td>2023-02-10</td>\n",
       "    </tr>\n",
       "    <tr>\n",
       "      <th>3</th>\n",
       "      <td>4</td>\n",
       "      <td>Ali</td>\n",
       "      <td>25.0</td>\n",
       "      <td>Tehran</td>\n",
       "      <td>3500.0</td>\n",
       "      <td>2023-02-05</td>\n",
       "    </tr>\n",
       "    <tr>\n",
       "      <th>4</th>\n",
       "      <td>5</td>\n",
       "      <td>Mona</td>\n",
       "      <td>25.0</td>\n",
       "      <td>Shiraz</td>\n",
       "      <td>5000.0</td>\n",
       "      <td>2023-01-01</td>\n",
       "    </tr>\n",
       "    <tr>\n",
       "      <th>5</th>\n",
       "      <td>6</td>\n",
       "      <td>Amir</td>\n",
       "      <td>29.0</td>\n",
       "      <td>Tabriz</td>\n",
       "      <td>3500.0</td>\n",
       "      <td>2023-02-25</td>\n",
       "    </tr>\n",
       "  </tbody>\n",
       "</table>\n",
       "</div>"
      ],
      "text/plain": [
       "   customer_id  name   age     city  income purchase_data\n",
       "0            1   Ali  25.0   Tehran  3500.0    2023-02-05\n",
       "1            2  Sara  25.0  Mashhad  4200.0    2023/03/01\n",
       "2            3  Reza  18.0   Tehran  2000.0    2023-02-10\n",
       "3            4   Ali  25.0   Tehran  3500.0    2023-02-05\n",
       "4            5  Mona  25.0   Shiraz  5000.0    2023-01-01\n",
       "5            6  Amir  29.0   Tabriz  3500.0    2023-02-25"
      ]
     },
     "execution_count": 8,
     "metadata": {},
     "output_type": "execute_result"
    }
   ],
   "source": [
    "# 3. Clean Data\n",
    "# -------------------------------------------------\n",
    "# Cleaning steps:\n",
    "# - Fill missing age/income with median\n",
    "# - Fill missing purchase date with default\n",
    "# - Convert negative income to positive\n",
    "# - Cap age > 100 to median\n",
    "# - Remove duplicate rows\n",
    "def clean_data(df):\n",
    "    df['age'] = df['age'].fillna(df['age'].median())\n",
    "    df['income'] = df['income'].fillna(df['income'].median())\n",
    "    df['purchase_data'] = df['purchase_data'].fillna(\"2023-01-01\")\n",
    "    df['income'] = df['income'].apply(lambda x: abs(x) if x < 0 else x)\n",
    "    df.loc[df['age'] > 100, 'age'] = df['age'].median()\n",
    "    df = df.drop_duplicates()\n",
    "    return df\n",
    "\n",
    "df_clean = clean_data(df.copy())\n",
    "print(\"Cleaned Data:\")\n",
    "df_clean"
   ]
  },
  {
   "cell_type": "code",
   "execution_count": 9,
   "id": "6a352a53-ec01-4b74-aa8d-5df1ad4e4046",
   "metadata": {},
   "outputs": [
    {
     "data": {
      "image/png": "[encoded data removed]",
      "text/plain": [
       "<Figure size 800x500 with 1 Axes>"
      ]
     },
     "metadata": {},
     "output_type": "display_data"
    }
   ],
   "source": [
    "# 4. Plot Income\n",
    "# -------------------------------------------------\n",
    "# Bar chart of customer income after cleaning\n",
    "plt.figure(figsize=(8,5))\n",
    "plt.bar(df_clean['name'], df_clean['income'], color='skyblue')\n",
    "plt.title('Customer Income')\n",
    "plt.xlabel('Name'); plt.ylabel('Income')\n",
    "plt.xticks(rotation=45)\n",
    "plt.tight_layout()\n",
    "plt.savefig('income_plot.png')\n",
    "plt.show()"
   ]
  },
  {
   "cell_type": "code",
   "execution_count": 10,
   "id": "78e0946c-21d6-4ca1-8f7d-d86c585eed95",
   "metadata": {},
   "outputs": [
    {
     "data": {
      "image/png": "[encoded data removed]",
      "text/plain": [
       "<Figure size 800x500 with 1 Axes>"
      ]
     },
     "metadata": {},
     "output_type": "display_data"
    }
   ],
   "source": [
    "# 5. Plot Age\n",
    "# -------------------------------------------------\n",
    "# Bar chart of customer age after cleaning\n",
    "plt.figure(figsize=(8,5))\n",
    "plt.bar(df_clean['name'], df_clean['age'], color='lightgreen')\n",
    "plt.title('Customer Age')\n",
    "plt.xlabel('Name'); plt.ylabel('Age')\n",
    "plt.xticks(rotation=45)\n",
    "plt.tight_layout()\n",
    "plt.savefig('age_plot.png')\n",
    "plt.show()"
   ]
  }
 ],
 "metadata": {
  "kernelspec": {
   "display_name": "Python [conda env:base] *",
   "language": "python",
   "name": "conda-base-py"
  },
  "language_info": {
   "codemirror_mode": {
    "name": "ipython",
    "version": 3
   },
   "file_extension": ".py",
   "mimetype": "text/x-python",
   "name": "python",
   "nbconvert_exporter": "python",
   "pygments_lexer": "ipython3",
   "version": "3.12.7"
  }
 },
 "nbformat": 4,
 "nbformat_minor": 5
}
